{
 "cells": [
  {
   "cell_type": "markdown",
   "metadata": {},
   "source": [
    "Data Science Fundamentals: Python |\n",
    "[Table of Contents](../index.ipynb)\n",
    "- - - \n",
    "<!--NAVIGATION-->\n",
    "Module 1. [Basic Python Syntax](./01_mod_python_syntax.ipynb) | [Variables and Objects](./02_python_variables_objects.ipynb) | [Operators](./03_python_operators.ipynb) | **[Exercises](./04_mod_practice.ipynb)**"
   ]
  },
  {
   "cell_type": "markdown",
   "metadata": {},
   "source": [
    "# Module 1: Practice Exercises"
   ]
  },
  {
   "cell_type": "markdown",
   "metadata": {},
   "source": [
    "1. Accept the user's first and last name and print them in reverse order with a space between them"
   ]
  },
  {
   "cell_type": "code",
   "execution_count": 7,
   "metadata": {},
   "outputs": [
    {
     "name": "stdout",
     "output_type": "stream",
     "text": [
      "Version 1 - short logic\n",
      "Hello South TechTalent\n",
      "\n",
      "Version 2 - longer logic\n",
      "Hello South TechTalent\n"
     ]
    }
   ],
   "source": [
    "#using print I had python take textbased input to create the output of interest \n",
    "print(\"Version 1 - short logic\") \n",
    "print(\"Hello South TechTalent\")\n",
    "\n",
    "#alternative could assign them snake values to \"accept first and last name\"\n",
    "print(\"\\nVersion 2 - longer logic\") \n",
    "first_name=\"TechTalent\"\n",
    "last_name=\"South\"\n",
    "print(\"Hello \"+ last_name + \" \" + first_name)"
   ]
  },
  {
   "cell_type": "markdown",
   "metadata": {},
   "source": [
    "2. Accept an integer (n) and compute the value of n+nn+nnn"
   ]
  },
  {
   "cell_type": "code",
   "execution_count": 8,
   "metadata": {},
   "outputs": [
    {
     "name": "stdout",
     "output_type": "stream",
     "text": [
      "615\n"
     ]
    }
   ],
   "source": [
    "#assigned integer values to n, nn, and nnn \n",
    "n=5\n",
    "nn=55\n",
    "nnn=555\n",
    "#computed their addition using arthimatic within python\n",
    "print(n+nn+nnn)"
   ]
  },
  {
   "cell_type": "markdown",
   "metadata": {},
   "source": [
    "3. Ask the user \"What country are you from?\" then print the following statement: \"I have heard that [input] is a beautiful country!\""
   ]
  },
  {
   "cell_type": "code",
   "execution_count": 22,
   "metadata": {},
   "outputs": [
    {
     "name": "stdout",
     "output_type": "stream",
     "text": [
      "What country are you from? Norway\n",
      "I have heard that Norway is a beautiful country!\n"
     ]
    }
   ],
   "source": [
    "# the input line helps us prompts the user for information stores as a variable\n",
    "country = input(\"What country are you from? \")\n",
    "# the print line lets us use that information, as it is stored as a variable we can recall \n",
    "print(\"I have heard that \" + country + \" is a beautiful country!\")"
   ]
  },
  {
   "cell_type": "markdown",
   "metadata": {},
   "source": [
    "4. What is the output of the following Python code \n",
    "x = 10\n",
    "y = 50 \n",
    "if (x** 2 > 100 and y < 100):     \n",
    "    print(x, y)"
   ]
  },
  {
   "cell_type": "code",
   "execution_count": 50,
   "metadata": {},
   "outputs": [
    {
     "name": "stdout",
     "output_type": "stream",
     "text": [
      "10 50\n"
     ]
    }
   ],
   "source": [
    "x = 10\n",
    "y = 50\n",
    "\n",
    "if x**2>100 and y<100:\n",
    "    print(x, y)\n",
    "    \n",
    "# It doesn't write any code \n",
    "# as neither are within the parameters\n",
    "\n",
    "x = 10\n",
    "y = 50\n",
    "\n",
    "# this would allow for a print \n",
    "# because it is within paramaters written, \n",
    "# took from exponentiation to multiplication\n",
    "\n",
    "if x*2<100 and y<100:\n",
    "    print(x, y)"
   ]
  },
  {
   "cell_type": "markdown",
   "metadata": {},
   "source": [
    "5. What is the output of the following addition (+) operator, and why does this code chunk execute this way?"
   ]
  },
  {
   "cell_type": "code",
   "execution_count": 45,
   "metadata": {},
   "outputs": [
    {
     "name": "stdout",
     "output_type": "stream",
     "text": [
      "[10, 20, 30, 40]\n",
      "[10, 20, 30, 40]\n"
     ]
    }
   ],
   "source": [
    "#defining a now is a list\n",
    "a = [10, 20]\n",
    "\n",
    "# both point to the same object now, as lists\n",
    "b = a\n",
    "\n",
    "# asking to add to list \n",
    "# they modify the contents of the original object \n",
    "# it goes to both as we have them as same object now \n",
    "b += [30, 40]\n",
    "\n",
    "print(a)\n",
    "print(b)"
   ]
  },
  {
   "cell_type": "markdown",
   "metadata": {},
   "source": [
    "6. What is the output of the following code and what arithmetic operators is being used here? print(2%6)"
   ]
  },
  {
   "cell_type": "code",
   "execution_count": 46,
   "metadata": {},
   "outputs": [
    {
     "name": "stdout",
     "output_type": "stream",
     "text": [
      "2\n"
     ]
    }
   ],
   "source": [
    "# the percentage (%) is used to divide the numbers \n",
    "# under operation, it returns the remainder \n",
    "# quotient = 0.33, remainder = 2\n",
    "\n",
    "print(2%6)"
   ]
  },
  {
   "cell_type": "markdown",
   "metadata": {},
   "source": [
    "7. What is the output of the following code and what arithmetic operators are used here? print(2 * 3 ** 3 * 4)"
   ]
  },
  {
   "cell_type": "code",
   "execution_count": 47,
   "metadata": {},
   "outputs": [
    {
     "name": "stdout",
     "output_type": "stream",
     "text": [
      "216\n"
     ]
    }
   ],
   "source": [
    "# Output is 216, we have both:\n",
    "# Multiplication at hand (*) and exponentiation (**)\n",
    "\n",
    "print(2 * 3 ** 3 * 4)\n"
   ]
  },
  {
   "cell_type": "markdown",
   "metadata": {},
   "source": [
    "8. What is a text editor?"
   ]
  },
  {
   "cell_type": "markdown",
   "metadata": {},
   "source": [
    "A program that saves files you create without formatting. "
   ]
  },
  {
   "cell_type": "markdown",
   "metadata": {},
   "source": [
    "9. What is python?"
   ]
  },
  {
   "cell_type": "markdown",
   "metadata": {},
   "source": [
    "Python is a general-purpose language, it runs on an interpretation system. Code can be run while being written, prototyping is easier with this for writing, it has open source libraries to help ith code writing as well.  "
   ]
  },
  {
   "cell_type": "markdown",
   "metadata": {},
   "source": [
    "10. What is jupyter notebook, what type of python environment is it, and what alternatives are there to jupyter notebook?"
   ]
  },
  {
   "cell_type": "markdown",
   "metadata": {},
   "source": [
    "I believe it is an integrated development environment (Anaconda environment) that helps in writing code (contains text, source code, metadata, and more). It allows you to work on your Python code without interruption and with abilityt o add things such as this (markdown cells) to explain methods and code; it also has more dexterity than say a TextEditor. There are alternatives but I am not familiar with them, one I found was Thonny IDE."
   ]
  },
  {
   "cell_type": "markdown",
   "metadata": {},
   "source": [
    "<!--NAVIGATION-->\n",
    "Module 1. [Basic Python Syntax](./01_mod_python_syntax.ipynb) | [Variables and Objects](./02_python_variables_objects.ipynb) | [Operators](./03_python_operators.ipynb) | **[Practice](./04_mod_practice.ipynb)**\n",
    "<br>\n",
    "[top](#)"
   ]
  },
  {
   "cell_type": "markdown",
   "metadata": {},
   "source": [
    "- - -\n",
    "\n",
    "Copyright © 2020 Qualex Consulting Services Incorporated."
   ]
  }
 ],
 "metadata": {
  "kernelspec": {
   "display_name": "Python 3 (ipykernel)",
   "language": "python",
   "name": "python3"
  },
  "language_info": {
   "codemirror_mode": {
    "name": "ipython",
    "version": 3
   },
   "file_extension": ".py",
   "mimetype": "text/x-python",
   "name": "python",
   "nbconvert_exporter": "python",
   "pygments_lexer": "ipython3",
   "version": "3.9.12"
  }
 },
 "nbformat": 4,
 "nbformat_minor": 4
}
